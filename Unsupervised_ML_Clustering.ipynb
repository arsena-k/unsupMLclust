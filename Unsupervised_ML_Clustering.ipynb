{
 "cells": [
  {
   "cell_type": "markdown",
   "metadata": {},
   "source": [
    "# Unsupervised Machine-Learning\n",
    "\n",
    "### with a focus on clustering with K-Means\n",
    "\n",
    "Workshop led by Alina Arseniev-Koehler"
   ]
  },
  {
   "cell_type": "markdown",
   "metadata": {},
   "source": [
    "**Outline:**\n",
    "\n",
    "* Import libraries\n",
    "* Load up Dataset\n",
    "* Wrangle into shape for K-means\n",
    "* Implement K-means in Sklearn\n",
    "* Evaluate fit of k-means in Sklearn\n",
    "\n",
    "As we go through the code - try *challenge activities* if you have extra time"
   ]
  },
  {
   "cell_type": "markdown",
   "metadata": {},
   "source": [
    "**Import functions and libraries we'll need**"
   ]
  },
  {
   "cell_type": "code",
   "execution_count": 1,
   "metadata": {
    "collapsed": true
   },
   "outputs": [],
   "source": [
    "from sklearn.cluster import KMeans\n",
    "from sklearn.datasets import make_moons\n",
    "from sklearn import metrics\n",
    "from scipy.spatial.distance import cdist\n",
    "import numpy as np\n",
    "import pandas as pd\n",
    "from matplotlib import pyplot as plt\n",
    "from sklearn.datasets.samples_generator import make_blobs\n",
    "#plt.rcParams['figure.figsize'] = (16, 9)\n",
    "plt.style.use('ggplot')\n",
    "%matplotlib inline\n",
    "\n",
    "#tip: when possible, try to only import the specific functions you need from a library rather than the whole library, to save space. "
   ]
  },
  {
   "cell_type": "markdown",
   "metadata": {},
   "source": [
    "**A simulation!**\n",
    "\n",
    "Let's create a fake dataset, where we *know* the latent structre. Since we've created it, we know what the latent structure actually is. But let's see if K-means clustering can *figure out this latent structure!* Then we'll compare the solution K-means comes up with, to how we expected the data to be clustered.\n",
    "\n",
    "\n",
    "* Why/when do a simulation in your own research? You might use it to compare how well different methods work, or to develop methods, or to check your assumptions/robustness of your findings. Can be a good trick to add into methods and in response to reviewers!\n"
   ]
  },
  {
   "cell_type": "code",
   "execution_count": 12,
   "metadata": {
    "collapsed": true
   },
   "outputs": [],
   "source": [
    "X, y_true = make_blobs(n_samples=300, centers=4,\n",
    "                       cluster_std=.6, random_state=234)  \n",
    "#what is make_blobs?   http://scikit-learn.org/stable/modules/generated/sklearn.datasets.make_blobs.html "
   ]
  },
  {
   "cell_type": "markdown",
   "metadata": {},
   "source": [
    "Exploring the parameters of make_blobs:\n",
    "    \n",
    "* what is n_samples? \n",
    "* what is centers? \n",
    "* what is cluster_sd? \n",
    "* what is random_state? "
   ]
  },
  {
   "cell_type": "code",
   "execution_count": 13,
   "metadata": {},
   "outputs": [
    {
     "data": {
      "text/plain": [
       "<matplotlib.collections.PathCollection at 0x2b0de312e48>"
      ]
     },
     "execution_count": 13,
     "metadata": {},
     "output_type": "execute_result"
    },
    {
     "data": {
      "image/png": "[encoded data removed]",
      "text/plain": [
       "<matplotlib.figure.Figure at 0x2b0de2939e8>"
      ]
     },
     "metadata": {},
     "output_type": "display_data"
    }
   ],
   "source": [
    "#Visualize our simulated data:\n",
    "plt.scatter(X[:, 0], X[:, 1], s=50)"
   ]
  },
  {
   "cell_type": "code",
   "execution_count": 30,
   "metadata": {},
   "outputs": [
    {
     "name": "stdout",
     "output_type": "stream",
     "text": [
      "[[-122.42589168   37.7745986 ]\n",
      " [-122.42589168   37.7745986 ]\n",
      " [-122.42436302   37.80041432]\n",
      " ..., \n",
      " [-122.40339036   37.78026558]\n",
      " [-122.3905314    37.78060708]\n",
      " [-122.39492572   37.73821154]] [1 3 0 3 1 1 2 0 3 3 2 3 0 3 1 0 0 1 2 2 1 1 0 2 2 0 1 0 2 0 3 3 0 3 3 3 3\n",
      " 3 2 1 0 2 0 0 2 2 3 2 3 1 2 1 3 1 1 2 3 2 3 1 3 0 3 2 2 2 3 1 3 2 0 2 3 2\n",
      " 2 3 2 0 1 3 1 0 1 1 3 0 1 0 3 3 0 1 3 2 2 0 1 1 0 2 3 1 3 1 0 1 1 0 3 0 2\n",
      " 2 1 3 1 0 3 1 1 0 2 1 2 1 1 1 1 2 1 2 3 2 2 1 3 2 2 3 0 3 3 2 0 2 0 2 3 0\n",
      " 3 3 3 0 3 0 1 2 3 2 1 0 3 0 0 1 0 2 2 0 1 0 0 3 1 0 2 3 1 1 0 2 1 0 2 2 0\n",
      " 0 0 0 1 3 0 2 0 0 2 2 2 0 2 3 0 2 1 2 0 3 2 3 0 3 0 2 0 0 3 2 2 1 1 0 3 1\n",
      " 1 2 1 2 0 3 3 0 0 3 0 1 2 0 1 2 3 2 1 0 1 3 3 3 3 2 2 3 0 2 1 0 2 2 2 1 1\n",
      " 3 0 0 2 1 3 2 0 3 0 1 1 2 2 0 1 1 1 0 3 3 1 1 0 1 1 1 3 2 3 0 1 1 3 3 3 1\n",
      " 1 0 3 2]\n"
     ]
    }
   ],
   "source": [
    "#take a look at the raw data. What do X and y_true correspond to?\n",
    "print(X, y_true)"
   ]
  },
  {
   "cell_type": "markdown",
   "metadata": {},
   "source": [
    "**Reshape dataset for K-Means in Sklearn**"
   ]
  },
  {
   "cell_type": "markdown",
   "metadata": {},
   "source": [
    "To get started, read up on [K-Means in SKlearn](http://scikit-learn.org/stable/modules/generated/sklearn.cluster.KMeans.html)\n",
    "\n",
    "* How does the kmeans function expect to see the data laid out for input? Write out the shape for some toy data..\n"
   ]
  },
  {
   "cell_type": "code",
   "execution_count": 4,
   "metadata": {
    "collapsed": true
   },
   "outputs": [],
   "source": [
    "df = pd.DataFrame({'x0': X[:, 0], 'x1': X[:, 1]}) "
   ]
  },
  {
   "cell_type": "code",
   "execution_count": 13,
   "metadata": {
    "collapsed": true
   },
   "outputs": [],
   "source": [
    "df #view"
   ]
  },
  {
   "cell_type": "markdown",
   "metadata": {},
   "source": [
    " **Implement K-means in Sklearn **"
   ]
  },
  {
   "cell_type": "code",
   "execution_count": 50,
   "metadata": {
    "collapsed": true
   },
   "outputs": [],
   "source": [
    "kmeans_fitted = KMeans(n_clusters=5, random_state= 100).fit(X) #let's just try 5 for now "
   ]
  },
  {
   "cell_type": "code",
   "execution_count": null,
   "metadata": {
    "collapsed": true
   },
   "outputs": [],
   "source": [
    "print(kmeans_fitted.cluster_centers_)   #print the centers of the 2 clusters. what do these mean? "
   ]
  },
  {
   "cell_type": "code",
   "execution_count": null,
   "metadata": {
    "collapsed": true
   },
   "outputs": [],
   "source": [
    "print(kmeans_fitted.labels_) #print labels for the "
   ]
  },
  {
   "cell_type": "markdown",
   "metadata": {},
   "source": [
    "** How many clusters? Elbow Analysis in Sklearn **"
   ]
  },
  {
   "cell_type": "markdown",
   "metadata": {
    "collapsed": true
   },
   "source": [
    "Elbow analysis is one way to deterine how many clusters are in the data, since usually we are working with real data (not simulated) and don't know how many clusters we should expect! So, we compare clustering solutions for various numbers of clusters (k) to see which solution \"fits\" the best. \n",
    "\n",
    "In Elbow Analysis, \"fit\" is deteremined by the sum of squares. We look at how the sum of squares decreases as a function of the number of clusters. A sharp joint (elbow) in the decreased variation explained by adding additional clusters might occur at some number of k, suggesting that k-clusters might be the best fit.  "
   ]
  },
  {
   "cell_type": "code",
   "execution_count": 14,
   "metadata": {
    "collapsed": true
   },
   "outputs": [],
   "source": [
    "#Code adjusted from: https://pythonprogramminglanguage.com/kmeans-elbow-method/\n",
    "\n",
    "#fill up \"fits\" object with a list of \n",
    "fits = []\n",
    "K = range(1,10) #try even more than 10!\n",
    "for k in K:\n",
    "    kmeanModel = KMeans(n_clusters=k).fit(X)\n",
    "    sum_cluster_dists= sum(np.min(cdist(X, kmeanModel.cluster_centers_, 'euclidean'), axis=1)) #unpack this line!\n",
    "    fits.append(sum_cluster_dists)"
   ]
  },
  {
   "cell_type": "markdown",
   "metadata": {},
   "source": [
    "*What is cdist?* \"Computes the distance between \\(m\\) points using Euclidean distance (2-norm) as the distance metric between the points. The points are arranged as \\(m\\) \\(n\\)-dimensional row vectors in the matrix X.\" [Source](https://docs.scipy.org/doc/scipy-0.15.1/reference/generated/scipy.spatial.distance.cdist.html).\n",
    "    "
   ]
  },
  {
   "cell_type": "code",
   "execution_count": 9,
   "metadata": {},
   "outputs": [
    {
     "data": {
      "text/plain": [
       "300"
      ]
     },
     "execution_count": 9,
     "metadata": {},
     "output_type": "execute_result"
    }
   ],
   "source": [
    "kmeanModel.cluster_centers_ #what is this?\n",
    "X.shape[0] #what is this? how would you modify the above code so that we are looking at AVERAGE error, rather than the sum?"
   ]
  },
  {
   "cell_type": "code",
   "execution_count": 16,
   "metadata": {},
   "outputs": [
    {
     "data": {
      "image/png": "[encoded data removed]",
      "text/plain": [
       "<matplotlib.figure.Figure at 0x2791ca30d30>"
      ]
     },
     "metadata": {},
     "output_type": "display_data"
    }
   ],
   "source": [
    "# Plot the elbow, adjusted from https://pythonprogramminglanguage.com/kmeans-elbow-method/\n",
    "plt.plot(K, fits, 'bx-')\n",
    "plt.xlabel('k')\n",
    "plt.ylabel('Fit')\n",
    "plt.title('The Elbow Method showing the optimal k')\n",
    "plt.show()\n",
    "#extra time? try using another layout here, or making the graph prettier. "
   ]
  },
  {
   "cell_type": "markdown",
   "metadata": {},
   "source": [
    "Another, related strategy determining the number of clusters is called \"Silohette\" analysis. You can learn more [here](http://scikit-learn.org/stable/auto_examples/cluster/plot_kmeans_silhouette_analysis.html), or take Soc 285 to learn more about clustering and unsupervised learning in general. "
   ]
  },
  {
   "cell_type": "markdown",
   "metadata": {},
   "source": [
    "**Compare predicted clusters versus actual clusters and visualize**"
   ]
  },
  {
   "cell_type": "code",
   "execution_count": 54,
   "metadata": {},
   "outputs": [
    {
     "data": {
      "image/png": "[encoded data removed]",
      "text/plain": [
       "<matplotlib.figure.Figure at 0x2aefdec6dd8>"
      ]
     },
     "metadata": {},
     "output_type": "display_data"
    }
   ],
   "source": [
    "#first, lets visualize the predicted clusters\n",
    "\n",
    "plt.scatter(X[:,0],X[:,1], c=kmeans_fitted.labels_, cmap='rainbow') \n",
    "plt.title('Clusters discovered with K-Means with Random Seed 100')\n",
    "#plt.savefig('Clustering Solution with Random Seed 100 ') #saves the figure with this filename, in your working directory"
   ]
  },
  {
   "cell_type": "code",
   "execution_count": 52,
   "metadata": {},
   "outputs": [
    {
     "data": {
      "text/plain": [
       "Text(0.5,1,'Clusters with actual labels')"
      ]
     },
     "execution_count": 52,
     "metadata": {},
     "output_type": "execute_result"
    },
    {
     "data": {
      "image/png": "[encoded data removed]",
      "text/plain": [
       "<matplotlib.figure.Figure at 0x2aefde336d8>"
      ]
     },
     "metadata": {},
     "output_type": "display_data"
    }
   ],
   "source": [
    "plt.scatter(X[:,0],X[:,1], c=y_true, cmap='rainbow') \n",
    "plt.title('Clusters with actual labels')"
   ]
  },
  {
   "cell_type": "markdown",
   "metadata": {},
   "source": [
    "**What are some metrics to analyze the accuracy of our solution?**\n",
    "\n",
    "In our unusual case, we actually KNOW the true cluster memberships of the data. This type of \"labeled,\" latent data occurs, but rarely (Alina can give polysemy example).\n",
    "\n",
    "Homogeneity:\n",
    "* Homogeneity ranges 0 to 1. A clustering result satisfies homogeneity (homogenity=1) if all of its clusters contain only data points which are members of a single class. Homogeneity ranges 0-1. \n",
    "\n",
    "Completeness\n",
    "* Completeness ranges 0 to 1. A clustering result satisfies completeness (completeness=1) if all the data points that are members of a given class are elements of the same cluster. Completeness ranges 0-1. \n",
    "\n",
    "V-measure:\n",
    "* V-measure ranges 0 to 1. A perfect clustering solution has a v-measure of 1, and v-measures range 0-1. V-measure is the harmonic mean of homogeneity and completness. Specifically, $v = 2 \\times (homogeneity \\times completeness) / (homogeneity + completeness)$\n",
    "\n",
    "More info on the [Sklearn implementations](http://scikit-learn.org/stable/modules/generated/sklearn.metrics.homogeneity_completeness_v_measure.html).\n",
    "\n",
    "More info on these metrics: \n",
    "* Rosenberg, Andrew, and Julia Hirschberg. \"V-measure: A conditional entropy-based external cluster evaluation measure.\" Proceedings of the 2007 joint conference on empirical methods in natural language processing and computational natural language learning (EMNLP-CoNLL). 2007."
   ]
  },
  {
   "cell_type": "code",
   "execution_count": 46,
   "metadata": {},
   "outputs": [
    {
     "name": "stdout",
     "output_type": "stream",
     "text": [
      "Homogeneity: 1.000\n",
      "Completeness: 1.000\n",
      "V-measure: 1.000\n"
     ]
    }
   ],
   "source": [
    "print(\"Homogeneity: %0.3f\" % metrics.homogeneity_score(y_true, kmeans_fitted.labels_))\n",
    "print(\"Completeness: %0.3f\" % metrics.completeness_score(y_true, kmeans_fitted.labels_))\n",
    "print(\"V-measure: %0.3f\" % metrics.v_measure_score(y_true, kmeans_fitted.labels_))"
   ]
  },
  {
   "cell_type": "markdown",
   "metadata": {},
   "source": [
    "## ** Activity #1 **"
   ]
  },
  {
   "cell_type": "markdown",
   "metadata": {},
   "source": [
    "K-means works pretty well on our simulated blob data. But what if we didn't just have spherical blobs? What if, for example, we had moons? \n",
    "\n",
    "Let's try it out.\n",
    "\n",
    "1. Replace where we generated the data using \"make blobs\", with this: X, y_true = make_moons(n_samples=100, shuffle=True, noise=None, random_state=None) \n",
    "\n",
    "2. Run through the rest of the code above. \n",
    "\n",
    "\n",
    "How well does k-means do? \n",
    "If you weren't able to visualize the data in 2-dimensions, how would you know if the fit was good or bad?"
   ]
  },
  {
   "cell_type": "code",
   "execution_count": null,
   "metadata": {
    "collapsed": true
   },
   "outputs": [],
   "source": []
  },
  {
   "cell_type": "code",
   "execution_count": null,
   "metadata": {
    "collapsed": true
   },
   "outputs": [],
   "source": []
  },
  {
   "cell_type": "code",
   "execution_count": null,
   "metadata": {
    "collapsed": true
   },
   "outputs": [],
   "source": []
  },
  {
   "cell_type": "markdown",
   "metadata": {
    "collapsed": true
   },
   "source": [
    "## ** Activity #2 ** "
   ]
  },
  {
   "cell_type": "markdown",
   "metadata": {},
   "source": [
    "An issue with k-means, and many clustering algorithms, is that the algorithm is quite depending on the initial (randomly selected) centroids. This means that if you run the algoiriothm a few different times, you might get different solutions! \n",
    "\n",
    "Let's explore this issue. "
   ]
  },
  {
   "cell_type": "markdown",
   "metadata": {
    "collapsed": true
   },
   "source": [
    "1. Generate simulated data using \"make blobs\"\n",
    "2. Record the V-measure, Homogeniety, and Completeness from the current solution\n",
    "3. Save the plot with the current solution, if you haven't already\n",
    "4. Go back to the code where we fit a k-means solution, i.e., where we define \"kmeans_fitted = \"\n",
    "5. Try changing \"random_state\" \n",
    "6. Re-run kmeans and code to visualize the clustering solution, and save this to your \n",
    "7. Repeat these steps a few times (at least 3 times), so that you get a few different solutions to compare. \n",
    "\n",
    "How does k-means solutions change across the initializations? Why is this an issue? What are ways to get around this in your own research applications using k-means? "
   ]
  },
  {
   "cell_type": "code",
   "execution_count": null,
   "metadata": {
    "collapsed": true
   },
   "outputs": [],
   "source": []
  },
  {
   "cell_type": "code",
   "execution_count": null,
   "metadata": {
    "collapsed": true
   },
   "outputs": [],
   "source": []
  },
  {
   "cell_type": "code",
   "execution_count": null,
   "metadata": {
    "collapsed": true
   },
   "outputs": [],
   "source": []
  },
  {
   "cell_type": "markdown",
   "metadata": {},
   "source": [
    "## ** Activity #3 ** "
   ]
  },
  {
   "cell_type": "markdown",
   "metadata": {},
   "source": [
    "**Let's try simulating some different datasets to get intuition about k-means:**\n",
    "\n",
    "First, let's review the parameters we can change when creating our data with \"make_blobs\"\n",
    "    \n",
    "* what is n_samples? intuitively, do you think having more or less data makes it any easier to find latent strucutre? why or why not? \n",
    "* what is centers? do you think it is a harder task for k-means to find the correct latent structure with more or fewer centers?\n",
    "* what is cluster_sd? would it be an easier or harder task for k-means to uncover the correct struture if this were smaller or larger? why?\n",
    "* what is random_state? why would you want to use or not use this parameter?"
   ]
  },
  {
   "cell_type": "markdown",
   "metadata": {},
   "source": [
    "Now, using the sample code we've worked through above, try changing data use make_blobs to answer some of the questions above:\n",
    "\n",
    "* try increasing/decreasing the number of centers (e.g., try 2, 6, 12). Does k-means still get the right solution? \n",
    "* try increasing/decreasing the cluster_sd (e.g., try .05, 1, and/or to 3). Does k-means still get the right solution?"
   ]
  },
  {
   "cell_type": "code",
   "execution_count": null,
   "metadata": {
    "collapsed": true
   },
   "outputs": [],
   "source": []
  },
  {
   "cell_type": "code",
   "execution_count": null,
   "metadata": {
    "collapsed": true
   },
   "outputs": [],
   "source": []
  },
  {
   "cell_type": "code",
   "execution_count": null,
   "metadata": {
    "collapsed": true
   },
   "outputs": [],
   "source": []
  },
  {
   "cell_type": "markdown",
   "metadata": {
    "collapsed": true
   },
   "source": [
    "## **Activity #4: Try k-means on a *real* dataset!**\n",
    "    "
   ]
  },
  {
   "cell_type": "markdown",
   "metadata": {},
   "source": [
    "Dataset: \n",
    "* Access \"train.csv\" from this [Kaggle Competition](https://www.kaggle.com/c/sf-crime/data)\n",
    "* Make sure \"train.csv\" is in your working directory! \n",
    "\n",
    "(Or, try clustering a dataset of your choice!)"
   ]
  },
  {
   "cell_type": "code",
   "execution_count": 25,
   "metadata": {},
   "outputs": [
    {
     "data": {
      "text/html": [
       "<div>\n",
       "<style>\n",
       "    .dataframe thead tr:only-child th {\n",
       "        text-align: right;\n",
       "    }\n",
       "\n",
       "    .dataframe thead th {\n",
       "        text-align: left;\n",
       "    }\n",
       "\n",
       "    .dataframe tbody tr th {\n",
       "        vertical-align: top;\n",
       "    }\n",
       "</style>\n",
       "<table border=\"1\" class=\"dataframe\">\n",
       "  <thead>\n",
       "    <tr style=\"text-align: right;\">\n",
       "      <th></th>\n",
       "      <th>Dates</th>\n",
       "      <th>Category</th>\n",
       "      <th>Descript</th>\n",
       "      <th>DayOfWeek</th>\n",
       "      <th>PdDistrict</th>\n",
       "      <th>Resolution</th>\n",
       "      <th>Address</th>\n",
       "      <th>X</th>\n",
       "      <th>Y</th>\n",
       "    </tr>\n",
       "  </thead>\n",
       "  <tbody>\n",
       "    <tr>\n",
       "      <th>0</th>\n",
       "      <td>2015-05-13 23:53:00</td>\n",
       "      <td>WARRANTS</td>\n",
       "      <td>WARRANT ARREST</td>\n",
       "      <td>Wednesday</td>\n",
       "      <td>NORTHERN</td>\n",
       "      <td>ARREST, BOOKED</td>\n",
       "      <td>OAK ST / LAGUNA ST</td>\n",
       "      <td>-122.425892</td>\n",
       "      <td>37.774599</td>\n",
       "    </tr>\n",
       "    <tr>\n",
       "      <th>1</th>\n",
       "      <td>2015-05-13 23:53:00</td>\n",
       "      <td>OTHER OFFENSES</td>\n",
       "      <td>TRAFFIC VIOLATION ARREST</td>\n",
       "      <td>Wednesday</td>\n",
       "      <td>NORTHERN</td>\n",
       "      <td>ARREST, BOOKED</td>\n",
       "      <td>OAK ST / LAGUNA ST</td>\n",
       "      <td>-122.425892</td>\n",
       "      <td>37.774599</td>\n",
       "    </tr>\n",
       "    <tr>\n",
       "      <th>2</th>\n",
       "      <td>2015-05-13 23:33:00</td>\n",
       "      <td>OTHER OFFENSES</td>\n",
       "      <td>TRAFFIC VIOLATION ARREST</td>\n",
       "      <td>Wednesday</td>\n",
       "      <td>NORTHERN</td>\n",
       "      <td>ARREST, BOOKED</td>\n",
       "      <td>VANNESS AV / GREENWICH ST</td>\n",
       "      <td>-122.424363</td>\n",
       "      <td>37.800414</td>\n",
       "    </tr>\n",
       "    <tr>\n",
       "      <th>3</th>\n",
       "      <td>2015-05-13 23:30:00</td>\n",
       "      <td>LARCENY/THEFT</td>\n",
       "      <td>GRAND THEFT FROM LOCKED AUTO</td>\n",
       "      <td>Wednesday</td>\n",
       "      <td>NORTHERN</td>\n",
       "      <td>NONE</td>\n",
       "      <td>1500 Block of LOMBARD ST</td>\n",
       "      <td>-122.426995</td>\n",
       "      <td>37.800873</td>\n",
       "    </tr>\n",
       "    <tr>\n",
       "      <th>4</th>\n",
       "      <td>2015-05-13 23:30:00</td>\n",
       "      <td>LARCENY/THEFT</td>\n",
       "      <td>GRAND THEFT FROM LOCKED AUTO</td>\n",
       "      <td>Wednesday</td>\n",
       "      <td>PARK</td>\n",
       "      <td>NONE</td>\n",
       "      <td>100 Block of BRODERICK ST</td>\n",
       "      <td>-122.438738</td>\n",
       "      <td>37.771541</td>\n",
       "    </tr>\n",
       "    <tr>\n",
       "      <th>5</th>\n",
       "      <td>2015-05-13 23:30:00</td>\n",
       "      <td>LARCENY/THEFT</td>\n",
       "      <td>GRAND THEFT FROM UNLOCKED AUTO</td>\n",
       "      <td>Wednesday</td>\n",
       "      <td>INGLESIDE</td>\n",
       "      <td>NONE</td>\n",
       "      <td>0 Block of TEDDY AV</td>\n",
       "      <td>-122.403252</td>\n",
       "      <td>37.713431</td>\n",
       "    </tr>\n",
       "    <tr>\n",
       "      <th>6</th>\n",
       "      <td>2015-05-13 23:30:00</td>\n",
       "      <td>VEHICLE THEFT</td>\n",
       "      <td>STOLEN AUTOMOBILE</td>\n",
       "      <td>Wednesday</td>\n",
       "      <td>INGLESIDE</td>\n",
       "      <td>NONE</td>\n",
       "      <td>AVALON AV / PERU AV</td>\n",
       "      <td>-122.423327</td>\n",
       "      <td>37.725138</td>\n",
       "    </tr>\n",
       "    <tr>\n",
       "      <th>7</th>\n",
       "      <td>2015-05-13 23:30:00</td>\n",
       "      <td>VEHICLE THEFT</td>\n",
       "      <td>STOLEN AUTOMOBILE</td>\n",
       "      <td>Wednesday</td>\n",
       "      <td>BAYVIEW</td>\n",
       "      <td>NONE</td>\n",
       "      <td>KIRKWOOD AV / DONAHUE ST</td>\n",
       "      <td>-122.371274</td>\n",
       "      <td>37.727564</td>\n",
       "    </tr>\n",
       "    <tr>\n",
       "      <th>8</th>\n",
       "      <td>2015-05-13 23:00:00</td>\n",
       "      <td>LARCENY/THEFT</td>\n",
       "      <td>GRAND THEFT FROM LOCKED AUTO</td>\n",
       "      <td>Wednesday</td>\n",
       "      <td>RICHMOND</td>\n",
       "      <td>NONE</td>\n",
       "      <td>600 Block of 47TH AV</td>\n",
       "      <td>-122.508194</td>\n",
       "      <td>37.776601</td>\n",
       "    </tr>\n",
       "    <tr>\n",
       "      <th>9</th>\n",
       "      <td>2015-05-13 23:00:00</td>\n",
       "      <td>LARCENY/THEFT</td>\n",
       "      <td>GRAND THEFT FROM LOCKED AUTO</td>\n",
       "      <td>Wednesday</td>\n",
       "      <td>CENTRAL</td>\n",
       "      <td>NONE</td>\n",
       "      <td>JEFFERSON ST / LEAVENWORTH ST</td>\n",
       "      <td>-122.419088</td>\n",
       "      <td>37.807802</td>\n",
       "    </tr>\n",
       "    <tr>\n",
       "      <th>10</th>\n",
       "      <td>2015-05-13 22:58:00</td>\n",
       "      <td>LARCENY/THEFT</td>\n",
       "      <td>PETTY THEFT FROM LOCKED AUTO</td>\n",
       "      <td>Wednesday</td>\n",
       "      <td>CENTRAL</td>\n",
       "      <td>NONE</td>\n",
       "      <td>JEFFERSON ST / LEAVENWORTH ST</td>\n",
       "      <td>-122.419088</td>\n",
       "      <td>37.807802</td>\n",
       "    </tr>\n",
       "    <tr>\n",
       "      <th>11</th>\n",
       "      <td>2015-05-13 22:30:00</td>\n",
       "      <td>OTHER OFFENSES</td>\n",
       "      <td>MISCELLANEOUS INVESTIGATION</td>\n",
       "      <td>Wednesday</td>\n",
       "      <td>TARAVAL</td>\n",
       "      <td>NONE</td>\n",
       "      <td>0 Block of ESCOLTA WY</td>\n",
       "      <td>-122.487983</td>\n",
       "      <td>37.737667</td>\n",
       "    </tr>\n",
       "    <tr>\n",
       "      <th>12</th>\n",
       "      <td>2015-05-13 22:30:00</td>\n",
       "      <td>VANDALISM</td>\n",
       "      <td>MALICIOUS MISCHIEF, VANDALISM OF VEHICLES</td>\n",
       "      <td>Wednesday</td>\n",
       "      <td>TENDERLOIN</td>\n",
       "      <td>NONE</td>\n",
       "      <td>TURK ST / JONES ST</td>\n",
       "      <td>-122.412414</td>\n",
       "      <td>37.783004</td>\n",
       "    </tr>\n",
       "    <tr>\n",
       "      <th>13</th>\n",
       "      <td>2015-05-13 22:06:00</td>\n",
       "      <td>LARCENY/THEFT</td>\n",
       "      <td>GRAND THEFT FROM LOCKED AUTO</td>\n",
       "      <td>Wednesday</td>\n",
       "      <td>NORTHERN</td>\n",
       "      <td>NONE</td>\n",
       "      <td>FILLMORE ST / GEARY BL</td>\n",
       "      <td>-122.432915</td>\n",
       "      <td>37.784353</td>\n",
       "    </tr>\n",
       "    <tr>\n",
       "      <th>14</th>\n",
       "      <td>2015-05-13 22:00:00</td>\n",
       "      <td>NON-CRIMINAL</td>\n",
       "      <td>FOUND PROPERTY</td>\n",
       "      <td>Wednesday</td>\n",
       "      <td>BAYVIEW</td>\n",
       "      <td>NONE</td>\n",
       "      <td>200 Block of WILLIAMS AV</td>\n",
       "      <td>-122.397744</td>\n",
       "      <td>37.729935</td>\n",
       "    </tr>\n",
       "    <tr>\n",
       "      <th>15</th>\n",
       "      <td>2015-05-13 22:00:00</td>\n",
       "      <td>NON-CRIMINAL</td>\n",
       "      <td>FOUND PROPERTY</td>\n",
       "      <td>Wednesday</td>\n",
       "      <td>BAYVIEW</td>\n",
       "      <td>NONE</td>\n",
       "      <td>0 Block of MENDELL ST</td>\n",
       "      <td>-122.383692</td>\n",
       "      <td>37.743189</td>\n",
       "    </tr>\n",
       "    <tr>\n",
       "      <th>16</th>\n",
       "      <td>2015-05-13 22:00:00</td>\n",
       "      <td>ROBBERY</td>\n",
       "      <td>ROBBERY, ARMED WITH A KNIFE</td>\n",
       "      <td>Wednesday</td>\n",
       "      <td>TENDERLOIN</td>\n",
       "      <td>NONE</td>\n",
       "      <td>EDDY ST / JONES ST</td>\n",
       "      <td>-122.412597</td>\n",
       "      <td>37.783932</td>\n",
       "    </tr>\n",
       "    <tr>\n",
       "      <th>17</th>\n",
       "      <td>2015-05-13 21:55:00</td>\n",
       "      <td>ASSAULT</td>\n",
       "      <td>AGGRAVATED ASSAULT WITH BODILY FORCE</td>\n",
       "      <td>Wednesday</td>\n",
       "      <td>INGLESIDE</td>\n",
       "      <td>NONE</td>\n",
       "      <td>GODEUS ST / MISSION ST</td>\n",
       "      <td>-122.421682</td>\n",
       "      <td>37.742822</td>\n",
       "    </tr>\n",
       "    <tr>\n",
       "      <th>18</th>\n",
       "      <td>2015-05-13 21:40:00</td>\n",
       "      <td>OTHER OFFENSES</td>\n",
       "      <td>TRAFFIC VIOLATION</td>\n",
       "      <td>Wednesday</td>\n",
       "      <td>BAYVIEW</td>\n",
       "      <td>ARREST, BOOKED</td>\n",
       "      <td>MENDELL ST / HUDSON AV</td>\n",
       "      <td>-122.386401</td>\n",
       "      <td>37.738983</td>\n",
       "    </tr>\n",
       "    <tr>\n",
       "      <th>19</th>\n",
       "      <td>2015-05-13 21:30:00</td>\n",
       "      <td>NON-CRIMINAL</td>\n",
       "      <td>FOUND PROPERTY</td>\n",
       "      <td>Wednesday</td>\n",
       "      <td>TENDERLOIN</td>\n",
       "      <td>NONE</td>\n",
       "      <td>100 Block of JONES ST</td>\n",
       "      <td>-122.412250</td>\n",
       "      <td>37.782556</td>\n",
       "    </tr>\n",
       "    <tr>\n",
       "      <th>20</th>\n",
       "      <td>2015-05-13 21:30:00</td>\n",
       "      <td>LARCENY/THEFT</td>\n",
       "      <td>GRAND THEFT FROM LOCKED AUTO</td>\n",
       "      <td>Wednesday</td>\n",
       "      <td>INGLESIDE</td>\n",
       "      <td>NONE</td>\n",
       "      <td>200 Block of EVELYN WY</td>\n",
       "      <td>-122.449389</td>\n",
       "      <td>37.742669</td>\n",
       "    </tr>\n",
       "    <tr>\n",
       "      <th>21</th>\n",
       "      <td>2015-05-13 21:17:00</td>\n",
       "      <td>ROBBERY</td>\n",
       "      <td>ROBBERY, BODILY FORCE</td>\n",
       "      <td>Wednesday</td>\n",
       "      <td>INGLESIDE</td>\n",
       "      <td>NONE</td>\n",
       "      <td>1600 Block of VALENCIA ST</td>\n",
       "      <td>-122.420272</td>\n",
       "      <td>37.747332</td>\n",
       "    </tr>\n",
       "    <tr>\n",
       "      <th>22</th>\n",
       "      <td>2015-05-13 21:11:00</td>\n",
       "      <td>WARRANTS</td>\n",
       "      <td>WARRANT ARREST</td>\n",
       "      <td>Wednesday</td>\n",
       "      <td>TENDERLOIN</td>\n",
       "      <td>NONE</td>\n",
       "      <td>100 Block of JONES ST</td>\n",
       "      <td>-122.412250</td>\n",
       "      <td>37.782556</td>\n",
       "    </tr>\n",
       "    <tr>\n",
       "      <th>23</th>\n",
       "      <td>2015-05-13 21:11:00</td>\n",
       "      <td>NON-CRIMINAL</td>\n",
       "      <td>STAY AWAY OR COURT ORDER, NON-DV RELATED</td>\n",
       "      <td>Wednesday</td>\n",
       "      <td>TENDERLOIN</td>\n",
       "      <td>NONE</td>\n",
       "      <td>100 Block of JONES ST</td>\n",
       "      <td>-122.412250</td>\n",
       "      <td>37.782556</td>\n",
       "    </tr>\n",
       "    <tr>\n",
       "      <th>24</th>\n",
       "      <td>2015-05-13 21:10:00</td>\n",
       "      <td>LARCENY/THEFT</td>\n",
       "      <td>GRAND THEFT FROM LOCKED AUTO</td>\n",
       "      <td>Wednesday</td>\n",
       "      <td>NORTHERN</td>\n",
       "      <td>NONE</td>\n",
       "      <td>FILLMORE ST / LOMBARD ST</td>\n",
       "      <td>-122.436049</td>\n",
       "      <td>37.799841</td>\n",
       "    </tr>\n",
       "    <tr>\n",
       "      <th>25</th>\n",
       "      <td>2015-05-13 21:00:00</td>\n",
       "      <td>NON-CRIMINAL</td>\n",
       "      <td>LOST PROPERTY</td>\n",
       "      <td>Wednesday</td>\n",
       "      <td>TENDERLOIN</td>\n",
       "      <td>NONE</td>\n",
       "      <td>300 Block of OFARRELL ST</td>\n",
       "      <td>-122.410509</td>\n",
       "      <td>37.786043</td>\n",
       "    </tr>\n",
       "    <tr>\n",
       "      <th>26</th>\n",
       "      <td>2015-05-13 21:00:00</td>\n",
       "      <td>LARCENY/THEFT</td>\n",
       "      <td>GRAND THEFT FROM LOCKED AUTO</td>\n",
       "      <td>Wednesday</td>\n",
       "      <td>NORTHERN</td>\n",
       "      <td>NONE</td>\n",
       "      <td>2000 Block of BUSH ST</td>\n",
       "      <td>-122.431018</td>\n",
       "      <td>37.787388</td>\n",
       "    </tr>\n",
       "    <tr>\n",
       "      <th>27</th>\n",
       "      <td>2015-05-13 21:00:00</td>\n",
       "      <td>LARCENY/THEFT</td>\n",
       "      <td>GRAND THEFT FROM LOCKED AUTO</td>\n",
       "      <td>Wednesday</td>\n",
       "      <td>INGLESIDE</td>\n",
       "      <td>NONE</td>\n",
       "      <td>500 Block of COLLEGE AV</td>\n",
       "      <td>-122.423656</td>\n",
       "      <td>37.732556</td>\n",
       "    </tr>\n",
       "    <tr>\n",
       "      <th>28</th>\n",
       "      <td>2015-05-13 21:00:00</td>\n",
       "      <td>LARCENY/THEFT</td>\n",
       "      <td>ATTEMPTED THEFT FROM LOCKED VEHICLE</td>\n",
       "      <td>Wednesday</td>\n",
       "      <td>TARAVAL</td>\n",
       "      <td>NONE</td>\n",
       "      <td>19TH AV / SANTIAGO ST</td>\n",
       "      <td>-122.475773</td>\n",
       "      <td>37.744919</td>\n",
       "    </tr>\n",
       "    <tr>\n",
       "      <th>29</th>\n",
       "      <td>2015-05-13 20:56:00</td>\n",
       "      <td>OTHER OFFENSES</td>\n",
       "      <td>MISCELLANEOUS INVESTIGATION</td>\n",
       "      <td>Wednesday</td>\n",
       "      <td>TARAVAL</td>\n",
       "      <td>NONE</td>\n",
       "      <td>2000 Block of 41ST AV</td>\n",
       "      <td>-122.499787</td>\n",
       "      <td>37.748518</td>\n",
       "    </tr>\n",
       "    <tr>\n",
       "      <th>...</th>\n",
       "      <td>...</td>\n",
       "      <td>...</td>\n",
       "      <td>...</td>\n",
       "      <td>...</td>\n",
       "      <td>...</td>\n",
       "      <td>...</td>\n",
       "      <td>...</td>\n",
       "      <td>...</td>\n",
       "      <td>...</td>\n",
       "    </tr>\n",
       "    <tr>\n",
       "      <th>878019</th>\n",
       "      <td>2003-01-06 02:37:00</td>\n",
       "      <td>OTHER OFFENSES</td>\n",
       "      <td>DRIVERS LICENSE, SUSPENDED OR REVOKED</td>\n",
       "      <td>Monday</td>\n",
       "      <td>SOUTHERN</td>\n",
       "      <td>ARREST, CITED</td>\n",
       "      <td>6TH ST / MARKET ST</td>\n",
       "      <td>-122.410294</td>\n",
       "      <td>37.782231</td>\n",
       "    </tr>\n",
       "    <tr>\n",
       "      <th>878020</th>\n",
       "      <td>2003-01-06 02:32:00</td>\n",
       "      <td>OTHER OFFENSES</td>\n",
       "      <td>TRAFFIC VIOLATION</td>\n",
       "      <td>Monday</td>\n",
       "      <td>NORTHERN</td>\n",
       "      <td>ARREST, CITED</td>\n",
       "      <td>VAN NESS AV / TURK ST</td>\n",
       "      <td>-122.420642</td>\n",
       "      <td>37.781961</td>\n",
       "    </tr>\n",
       "    <tr>\n",
       "      <th>878021</th>\n",
       "      <td>2003-01-06 02:24:00</td>\n",
       "      <td>VANDALISM</td>\n",
       "      <td>MALICIOUS MISCHIEF</td>\n",
       "      <td>Monday</td>\n",
       "      <td>NORTHERN</td>\n",
       "      <td>NOT PROSECUTED</td>\n",
       "      <td>SANCHEZ ST / 14TH ST</td>\n",
       "      <td>-122.431191</td>\n",
       "      <td>37.767595</td>\n",
       "    </tr>\n",
       "    <tr>\n",
       "      <th>878022</th>\n",
       "      <td>2003-01-06 02:16:00</td>\n",
       "      <td>VEHICLE THEFT</td>\n",
       "      <td>RECOVERED VEHICLE - STOLEN OUTSIDE SF</td>\n",
       "      <td>Monday</td>\n",
       "      <td>MISSION</td>\n",
       "      <td>NONE</td>\n",
       "      <td>17TH ST / MISSION ST</td>\n",
       "      <td>-122.419516</td>\n",
       "      <td>37.763429</td>\n",
       "    </tr>\n",
       "    <tr>\n",
       "      <th>878023</th>\n",
       "      <td>2003-01-06 02:15:00</td>\n",
       "      <td>LARCENY/THEFT</td>\n",
       "      <td>GRAND THEFT PICKPOCKET</td>\n",
       "      <td>Monday</td>\n",
       "      <td>TENDERLOIN</td>\n",
       "      <td>NONE</td>\n",
       "      <td>600 Block of ELLIS ST</td>\n",
       "      <td>-122.416894</td>\n",
       "      <td>37.784286</td>\n",
       "    </tr>\n",
       "    <tr>\n",
       "      <th>878024</th>\n",
       "      <td>2003-01-06 02:09:00</td>\n",
       "      <td>OTHER OFFENSES</td>\n",
       "      <td>VIOLATION OF MUNICIPAL POLICE CODE</td>\n",
       "      <td>Monday</td>\n",
       "      <td>PARK</td>\n",
       "      <td>ARREST, CITED</td>\n",
       "      <td>600 Block of DIVISADERO ST</td>\n",
       "      <td>-122.437781</td>\n",
       "      <td>37.775483</td>\n",
       "    </tr>\n",
       "    <tr>\n",
       "      <th>878025</th>\n",
       "      <td>2003-01-06 02:06:00</td>\n",
       "      <td>OTHER OFFENSES</td>\n",
       "      <td>TRAFFIC VIOLATION</td>\n",
       "      <td>Monday</td>\n",
       "      <td>BAYVIEW</td>\n",
       "      <td>ARREST, BOOKED</td>\n",
       "      <td>NEWHALL ST / GALVEZ AV</td>\n",
       "      <td>-122.387710</td>\n",
       "      <td>37.740674</td>\n",
       "    </tr>\n",
       "    <tr>\n",
       "      <th>878026</th>\n",
       "      <td>2003-01-06 02:06:00</td>\n",
       "      <td>WARRANTS</td>\n",
       "      <td>WARRANT ARREST</td>\n",
       "      <td>Monday</td>\n",
       "      <td>BAYVIEW</td>\n",
       "      <td>ARREST, BOOKED</td>\n",
       "      <td>NEWHALL ST / GALVEZ AV</td>\n",
       "      <td>-122.387710</td>\n",
       "      <td>37.740674</td>\n",
       "    </tr>\n",
       "    <tr>\n",
       "      <th>878027</th>\n",
       "      <td>2003-01-06 02:00:00</td>\n",
       "      <td>WARRANTS</td>\n",
       "      <td>ENROUTE TO OUTSIDE JURISDICTION</td>\n",
       "      <td>Monday</td>\n",
       "      <td>SOUTHERN</td>\n",
       "      <td>ARREST, BOOKED</td>\n",
       "      <td>900 Block of MARKET ST</td>\n",
       "      <td>-122.409708</td>\n",
       "      <td>37.782828</td>\n",
       "    </tr>\n",
       "    <tr>\n",
       "      <th>878028</th>\n",
       "      <td>2003-01-06 02:00:00</td>\n",
       "      <td>ASSAULT</td>\n",
       "      <td>AGGRAVATED ASSAULT WITH BODILY FORCE</td>\n",
       "      <td>Monday</td>\n",
       "      <td>SOUTHERN</td>\n",
       "      <td>NONE</td>\n",
       "      <td>6TH ST / MARKET ST</td>\n",
       "      <td>-122.410294</td>\n",
       "      <td>37.782231</td>\n",
       "    </tr>\n",
       "    <tr>\n",
       "      <th>878029</th>\n",
       "      <td>2003-01-06 01:54:00</td>\n",
       "      <td>OTHER OFFENSES</td>\n",
       "      <td>PROBATION VIOLATION</td>\n",
       "      <td>Monday</td>\n",
       "      <td>TENDERLOIN</td>\n",
       "      <td>ARREST, BOOKED</td>\n",
       "      <td>1400 Block of GOLDEN GATE AV</td>\n",
       "      <td>-122.434423</td>\n",
       "      <td>37.779193</td>\n",
       "    </tr>\n",
       "    <tr>\n",
       "      <th>878030</th>\n",
       "      <td>2003-01-06 01:54:00</td>\n",
       "      <td>SEX OFFENSES FORCIBLE</td>\n",
       "      <td>FORCIBLE RAPE, BODILY FORCE</td>\n",
       "      <td>Monday</td>\n",
       "      <td>TENDERLOIN</td>\n",
       "      <td>ARREST, BOOKED</td>\n",
       "      <td>1400 Block of GOLDEN GATE AV</td>\n",
       "      <td>-122.434423</td>\n",
       "      <td>37.779193</td>\n",
       "    </tr>\n",
       "    <tr>\n",
       "      <th>878031</th>\n",
       "      <td>2003-01-06 01:50:00</td>\n",
       "      <td>ASSAULT</td>\n",
       "      <td>BATTERY</td>\n",
       "      <td>Monday</td>\n",
       "      <td>BAYVIEW</td>\n",
       "      <td>NONE</td>\n",
       "      <td>3RD ST / NEWCOMB AV</td>\n",
       "      <td>-122.390417</td>\n",
       "      <td>37.735593</td>\n",
       "    </tr>\n",
       "    <tr>\n",
       "      <th>878032</th>\n",
       "      <td>2003-01-06 01:36:00</td>\n",
       "      <td>OTHER OFFENSES</td>\n",
       "      <td>DRIVERS LICENSE, SUSPENDED OR REVOKED</td>\n",
       "      <td>Monday</td>\n",
       "      <td>NORTHERN</td>\n",
       "      <td>ARREST, CITED</td>\n",
       "      <td>GEARY BL / FRANKLIN ST</td>\n",
       "      <td>-122.423031</td>\n",
       "      <td>37.785482</td>\n",
       "    </tr>\n",
       "    <tr>\n",
       "      <th>878033</th>\n",
       "      <td>2003-01-06 01:30:00</td>\n",
       "      <td>VANDALISM</td>\n",
       "      <td>MALICIOUS MISCHIEF, VANDALISM</td>\n",
       "      <td>Monday</td>\n",
       "      <td>RICHMOND</td>\n",
       "      <td>ARREST, CITED</td>\n",
       "      <td>1000 Block of 22ND AV</td>\n",
       "      <td>-122.391668</td>\n",
       "      <td>37.757793</td>\n",
       "    </tr>\n",
       "    <tr>\n",
       "      <th>878034</th>\n",
       "      <td>2003-01-06 01:30:00</td>\n",
       "      <td>TRESPASS</td>\n",
       "      <td>TRESPASSING</td>\n",
       "      <td>Monday</td>\n",
       "      <td>RICHMOND</td>\n",
       "      <td>ARREST, CITED</td>\n",
       "      <td>1000 Block of 22ND AV</td>\n",
       "      <td>-122.391668</td>\n",
       "      <td>37.757793</td>\n",
       "    </tr>\n",
       "    <tr>\n",
       "      <th>878035</th>\n",
       "      <td>2003-01-06 00:55:00</td>\n",
       "      <td>ASSAULT</td>\n",
       "      <td>BATTERY</td>\n",
       "      <td>Monday</td>\n",
       "      <td>NORTHERN</td>\n",
       "      <td>NONE</td>\n",
       "      <td>1300 Block of WEBSTER ST</td>\n",
       "      <td>-122.431046</td>\n",
       "      <td>37.783030</td>\n",
       "    </tr>\n",
       "    <tr>\n",
       "      <th>878036</th>\n",
       "      <td>2003-01-06 00:55:00</td>\n",
       "      <td>LARCENY/THEFT</td>\n",
       "      <td>PETTY THEFT SHOPLIFTING</td>\n",
       "      <td>Monday</td>\n",
       "      <td>NORTHERN</td>\n",
       "      <td>NONE</td>\n",
       "      <td>1300 Block of WEBSTER ST</td>\n",
       "      <td>-122.431046</td>\n",
       "      <td>37.783030</td>\n",
       "    </tr>\n",
       "    <tr>\n",
       "      <th>878037</th>\n",
       "      <td>2003-01-06 00:55:00</td>\n",
       "      <td>VANDALISM</td>\n",
       "      <td>MALICIOUS MISCHIEF, VANDALISM</td>\n",
       "      <td>Monday</td>\n",
       "      <td>NORTHERN</td>\n",
       "      <td>NONE</td>\n",
       "      <td>1300 Block of WEBSTER ST</td>\n",
       "      <td>-122.431046</td>\n",
       "      <td>37.783030</td>\n",
       "    </tr>\n",
       "    <tr>\n",
       "      <th>878038</th>\n",
       "      <td>2003-01-06 00:42:00</td>\n",
       "      <td>WARRANTS</td>\n",
       "      <td>ENROUTE TO OUTSIDE JURISDICTION</td>\n",
       "      <td>Monday</td>\n",
       "      <td>TENDERLOIN</td>\n",
       "      <td>ARREST, BOOKED</td>\n",
       "      <td>TAYLOR ST / GEARY ST</td>\n",
       "      <td>-122.411519</td>\n",
       "      <td>37.786941</td>\n",
       "    </tr>\n",
       "    <tr>\n",
       "      <th>878039</th>\n",
       "      <td>2003-01-06 00:40:00</td>\n",
       "      <td>OTHER OFFENSES</td>\n",
       "      <td>DRIVERS LICENSE, SUSPENDED OR REVOKED</td>\n",
       "      <td>Monday</td>\n",
       "      <td>NORTHERN</td>\n",
       "      <td>ARREST, CITED</td>\n",
       "      <td>POLK ST / CALIFORNIA ST</td>\n",
       "      <td>-122.420692</td>\n",
       "      <td>37.790577</td>\n",
       "    </tr>\n",
       "    <tr>\n",
       "      <th>878040</th>\n",
       "      <td>2003-01-06 00:33:00</td>\n",
       "      <td>ASSAULT</td>\n",
       "      <td>INFLICT INJURY ON COHABITEE</td>\n",
       "      <td>Monday</td>\n",
       "      <td>MISSION</td>\n",
       "      <td>NONE</td>\n",
       "      <td>2800 Block of FOLSOM ST</td>\n",
       "      <td>-122.414073</td>\n",
       "      <td>37.751685</td>\n",
       "    </tr>\n",
       "    <tr>\n",
       "      <th>878041</th>\n",
       "      <td>2003-01-06 00:31:00</td>\n",
       "      <td>OTHER OFFENSES</td>\n",
       "      <td>DRIVERS LICENSE, SUSPENDED OR REVOKED</td>\n",
       "      <td>Monday</td>\n",
       "      <td>RICHMOND</td>\n",
       "      <td>ARREST, CITED</td>\n",
       "      <td>CLEMENT ST / 14TH AV</td>\n",
       "      <td>-122.472985</td>\n",
       "      <td>37.782552</td>\n",
       "    </tr>\n",
       "    <tr>\n",
       "      <th>878042</th>\n",
       "      <td>2003-01-06 00:20:00</td>\n",
       "      <td>ASSAULT</td>\n",
       "      <td>ATTEMPTED HOMICIDE WITH A GUN</td>\n",
       "      <td>Monday</td>\n",
       "      <td>BAYVIEW</td>\n",
       "      <td>ARREST, BOOKED</td>\n",
       "      <td>1500 Block of SHAFTER AV</td>\n",
       "      <td>-122.389769</td>\n",
       "      <td>37.730564</td>\n",
       "    </tr>\n",
       "    <tr>\n",
       "      <th>878043</th>\n",
       "      <td>2003-01-06 00:20:00</td>\n",
       "      <td>OTHER OFFENSES</td>\n",
       "      <td>PAROLE VIOLATION</td>\n",
       "      <td>Monday</td>\n",
       "      <td>BAYVIEW</td>\n",
       "      <td>ARREST, BOOKED</td>\n",
       "      <td>1500 Block of SHAFTER AV</td>\n",
       "      <td>-122.389769</td>\n",
       "      <td>37.730564</td>\n",
       "    </tr>\n",
       "    <tr>\n",
       "      <th>878044</th>\n",
       "      <td>2003-01-06 00:15:00</td>\n",
       "      <td>ROBBERY</td>\n",
       "      <td>ROBBERY ON THE STREET WITH A GUN</td>\n",
       "      <td>Monday</td>\n",
       "      <td>TARAVAL</td>\n",
       "      <td>NONE</td>\n",
       "      <td>FARALLONES ST / CAPITOL AV</td>\n",
       "      <td>-122.459033</td>\n",
       "      <td>37.714056</td>\n",
       "    </tr>\n",
       "    <tr>\n",
       "      <th>878045</th>\n",
       "      <td>2003-01-06 00:01:00</td>\n",
       "      <td>LARCENY/THEFT</td>\n",
       "      <td>GRAND THEFT FROM LOCKED AUTO</td>\n",
       "      <td>Monday</td>\n",
       "      <td>INGLESIDE</td>\n",
       "      <td>NONE</td>\n",
       "      <td>600 Block of EDNA ST</td>\n",
       "      <td>-122.447364</td>\n",
       "      <td>37.731948</td>\n",
       "    </tr>\n",
       "    <tr>\n",
       "      <th>878046</th>\n",
       "      <td>2003-01-06 00:01:00</td>\n",
       "      <td>LARCENY/THEFT</td>\n",
       "      <td>GRAND THEFT FROM LOCKED AUTO</td>\n",
       "      <td>Monday</td>\n",
       "      <td>SOUTHERN</td>\n",
       "      <td>NONE</td>\n",
       "      <td>5TH ST / FOLSOM ST</td>\n",
       "      <td>-122.403390</td>\n",
       "      <td>37.780266</td>\n",
       "    </tr>\n",
       "    <tr>\n",
       "      <th>878047</th>\n",
       "      <td>2003-01-06 00:01:00</td>\n",
       "      <td>VANDALISM</td>\n",
       "      <td>MALICIOUS MISCHIEF, VANDALISM OF VEHICLES</td>\n",
       "      <td>Monday</td>\n",
       "      <td>SOUTHERN</td>\n",
       "      <td>NONE</td>\n",
       "      <td>TOWNSEND ST / 2ND ST</td>\n",
       "      <td>-122.390531</td>\n",
       "      <td>37.780607</td>\n",
       "    </tr>\n",
       "    <tr>\n",
       "      <th>878048</th>\n",
       "      <td>2003-01-06 00:01:00</td>\n",
       "      <td>FORGERY/COUNTERFEITING</td>\n",
       "      <td>CHECKS, FORGERY (FELONY)</td>\n",
       "      <td>Monday</td>\n",
       "      <td>BAYVIEW</td>\n",
       "      <td>NONE</td>\n",
       "      <td>1800 Block of NEWCOMB AV</td>\n",
       "      <td>-122.394926</td>\n",
       "      <td>37.738212</td>\n",
       "    </tr>\n",
       "  </tbody>\n",
       "</table>\n",
       "<p>878049 rows × 9 columns</p>\n",
       "</div>"
      ],
      "text/plain": [
       "                      Dates                Category  \\\n",
       "0       2015-05-13 23:53:00                WARRANTS   \n",
       "1       2015-05-13 23:53:00          OTHER OFFENSES   \n",
       "2       2015-05-13 23:33:00          OTHER OFFENSES   \n",
       "3       2015-05-13 23:30:00           LARCENY/THEFT   \n",
       "4       2015-05-13 23:30:00           LARCENY/THEFT   \n",
       "5       2015-05-13 23:30:00           LARCENY/THEFT   \n",
       "6       2015-05-13 23:30:00           VEHICLE THEFT   \n",
       "7       2015-05-13 23:30:00           VEHICLE THEFT   \n",
       "8       2015-05-13 23:00:00           LARCENY/THEFT   \n",
       "9       2015-05-13 23:00:00           LARCENY/THEFT   \n",
       "10      2015-05-13 22:58:00           LARCENY/THEFT   \n",
       "11      2015-05-13 22:30:00          OTHER OFFENSES   \n",
       "12      2015-05-13 22:30:00               VANDALISM   \n",
       "13      2015-05-13 22:06:00           LARCENY/THEFT   \n",
       "14      2015-05-13 22:00:00            NON-CRIMINAL   \n",
       "15      2015-05-13 22:00:00            NON-CRIMINAL   \n",
       "16      2015-05-13 22:00:00                 ROBBERY   \n",
       "17      2015-05-13 21:55:00                 ASSAULT   \n",
       "18      2015-05-13 21:40:00          OTHER OFFENSES   \n",
       "19      2015-05-13 21:30:00            NON-CRIMINAL   \n",
       "20      2015-05-13 21:30:00           LARCENY/THEFT   \n",
       "21      2015-05-13 21:17:00                 ROBBERY   \n",
       "22      2015-05-13 21:11:00                WARRANTS   \n",
       "23      2015-05-13 21:11:00            NON-CRIMINAL   \n",
       "24      2015-05-13 21:10:00           LARCENY/THEFT   \n",
       "25      2015-05-13 21:00:00            NON-CRIMINAL   \n",
       "26      2015-05-13 21:00:00           LARCENY/THEFT   \n",
       "27      2015-05-13 21:00:00           LARCENY/THEFT   \n",
       "28      2015-05-13 21:00:00           LARCENY/THEFT   \n",
       "29      2015-05-13 20:56:00          OTHER OFFENSES   \n",
       "...                     ...                     ...   \n",
       "878019  2003-01-06 02:37:00          OTHER OFFENSES   \n",
       "878020  2003-01-06 02:32:00          OTHER OFFENSES   \n",
       "878021  2003-01-06 02:24:00               VANDALISM   \n",
       "878022  2003-01-06 02:16:00           VEHICLE THEFT   \n",
       "878023  2003-01-06 02:15:00           LARCENY/THEFT   \n",
       "878024  2003-01-06 02:09:00          OTHER OFFENSES   \n",
       "878025  2003-01-06 02:06:00          OTHER OFFENSES   \n",
       "878026  2003-01-06 02:06:00                WARRANTS   \n",
       "878027  2003-01-06 02:00:00                WARRANTS   \n",
       "878028  2003-01-06 02:00:00                 ASSAULT   \n",
       "878029  2003-01-06 01:54:00          OTHER OFFENSES   \n",
       "878030  2003-01-06 01:54:00   SEX OFFENSES FORCIBLE   \n",
       "878031  2003-01-06 01:50:00                 ASSAULT   \n",
       "878032  2003-01-06 01:36:00          OTHER OFFENSES   \n",
       "878033  2003-01-06 01:30:00               VANDALISM   \n",
       "878034  2003-01-06 01:30:00                TRESPASS   \n",
       "878035  2003-01-06 00:55:00                 ASSAULT   \n",
       "878036  2003-01-06 00:55:00           LARCENY/THEFT   \n",
       "878037  2003-01-06 00:55:00               VANDALISM   \n",
       "878038  2003-01-06 00:42:00                WARRANTS   \n",
       "878039  2003-01-06 00:40:00          OTHER OFFENSES   \n",
       "878040  2003-01-06 00:33:00                 ASSAULT   \n",
       "878041  2003-01-06 00:31:00          OTHER OFFENSES   \n",
       "878042  2003-01-06 00:20:00                 ASSAULT   \n",
       "878043  2003-01-06 00:20:00          OTHER OFFENSES   \n",
       "878044  2003-01-06 00:15:00                 ROBBERY   \n",
       "878045  2003-01-06 00:01:00           LARCENY/THEFT   \n",
       "878046  2003-01-06 00:01:00           LARCENY/THEFT   \n",
       "878047  2003-01-06 00:01:00               VANDALISM   \n",
       "878048  2003-01-06 00:01:00  FORGERY/COUNTERFEITING   \n",
       "\n",
       "                                         Descript  DayOfWeek  PdDistrict  \\\n",
       "0                                  WARRANT ARREST  Wednesday    NORTHERN   \n",
       "1                        TRAFFIC VIOLATION ARREST  Wednesday    NORTHERN   \n",
       "2                        TRAFFIC VIOLATION ARREST  Wednesday    NORTHERN   \n",
       "3                    GRAND THEFT FROM LOCKED AUTO  Wednesday    NORTHERN   \n",
       "4                    GRAND THEFT FROM LOCKED AUTO  Wednesday        PARK   \n",
       "5                  GRAND THEFT FROM UNLOCKED AUTO  Wednesday   INGLESIDE   \n",
       "6                               STOLEN AUTOMOBILE  Wednesday   INGLESIDE   \n",
       "7                               STOLEN AUTOMOBILE  Wednesday     BAYVIEW   \n",
       "8                    GRAND THEFT FROM LOCKED AUTO  Wednesday    RICHMOND   \n",
       "9                    GRAND THEFT FROM LOCKED AUTO  Wednesday     CENTRAL   \n",
       "10                   PETTY THEFT FROM LOCKED AUTO  Wednesday     CENTRAL   \n",
       "11                    MISCELLANEOUS INVESTIGATION  Wednesday     TARAVAL   \n",
       "12      MALICIOUS MISCHIEF, VANDALISM OF VEHICLES  Wednesday  TENDERLOIN   \n",
       "13                   GRAND THEFT FROM LOCKED AUTO  Wednesday    NORTHERN   \n",
       "14                                 FOUND PROPERTY  Wednesday     BAYVIEW   \n",
       "15                                 FOUND PROPERTY  Wednesday     BAYVIEW   \n",
       "16                    ROBBERY, ARMED WITH A KNIFE  Wednesday  TENDERLOIN   \n",
       "17           AGGRAVATED ASSAULT WITH BODILY FORCE  Wednesday   INGLESIDE   \n",
       "18                              TRAFFIC VIOLATION  Wednesday     BAYVIEW   \n",
       "19                                 FOUND PROPERTY  Wednesday  TENDERLOIN   \n",
       "20                   GRAND THEFT FROM LOCKED AUTO  Wednesday   INGLESIDE   \n",
       "21                          ROBBERY, BODILY FORCE  Wednesday   INGLESIDE   \n",
       "22                                 WARRANT ARREST  Wednesday  TENDERLOIN   \n",
       "23       STAY AWAY OR COURT ORDER, NON-DV RELATED  Wednesday  TENDERLOIN   \n",
       "24                   GRAND THEFT FROM LOCKED AUTO  Wednesday    NORTHERN   \n",
       "25                                  LOST PROPERTY  Wednesday  TENDERLOIN   \n",
       "26                   GRAND THEFT FROM LOCKED AUTO  Wednesday    NORTHERN   \n",
       "27                   GRAND THEFT FROM LOCKED AUTO  Wednesday   INGLESIDE   \n",
       "28            ATTEMPTED THEFT FROM LOCKED VEHICLE  Wednesday     TARAVAL   \n",
       "29                    MISCELLANEOUS INVESTIGATION  Wednesday     TARAVAL   \n",
       "...                                           ...        ...         ...   \n",
       "878019      DRIVERS LICENSE, SUSPENDED OR REVOKED     Monday    SOUTHERN   \n",
       "878020                          TRAFFIC VIOLATION     Monday    NORTHERN   \n",
       "878021                         MALICIOUS MISCHIEF     Monday    NORTHERN   \n",
       "878022      RECOVERED VEHICLE - STOLEN OUTSIDE SF     Monday     MISSION   \n",
       "878023                     GRAND THEFT PICKPOCKET     Monday  TENDERLOIN   \n",
       "878024         VIOLATION OF MUNICIPAL POLICE CODE     Monday        PARK   \n",
       "878025                          TRAFFIC VIOLATION     Monday     BAYVIEW   \n",
       "878026                             WARRANT ARREST     Monday     BAYVIEW   \n",
       "878027            ENROUTE TO OUTSIDE JURISDICTION     Monday    SOUTHERN   \n",
       "878028       AGGRAVATED ASSAULT WITH BODILY FORCE     Monday    SOUTHERN   \n",
       "878029                        PROBATION VIOLATION     Monday  TENDERLOIN   \n",
       "878030                FORCIBLE RAPE, BODILY FORCE     Monday  TENDERLOIN   \n",
       "878031                                    BATTERY     Monday     BAYVIEW   \n",
       "878032      DRIVERS LICENSE, SUSPENDED OR REVOKED     Monday    NORTHERN   \n",
       "878033              MALICIOUS MISCHIEF, VANDALISM     Monday    RICHMOND   \n",
       "878034                                TRESPASSING     Monday    RICHMOND   \n",
       "878035                                    BATTERY     Monday    NORTHERN   \n",
       "878036                    PETTY THEFT SHOPLIFTING     Monday    NORTHERN   \n",
       "878037              MALICIOUS MISCHIEF, VANDALISM     Monday    NORTHERN   \n",
       "878038            ENROUTE TO OUTSIDE JURISDICTION     Monday  TENDERLOIN   \n",
       "878039      DRIVERS LICENSE, SUSPENDED OR REVOKED     Monday    NORTHERN   \n",
       "878040                INFLICT INJURY ON COHABITEE     Monday     MISSION   \n",
       "878041      DRIVERS LICENSE, SUSPENDED OR REVOKED     Monday    RICHMOND   \n",
       "878042              ATTEMPTED HOMICIDE WITH A GUN     Monday     BAYVIEW   \n",
       "878043                           PAROLE VIOLATION     Monday     BAYVIEW   \n",
       "878044           ROBBERY ON THE STREET WITH A GUN     Monday     TARAVAL   \n",
       "878045               GRAND THEFT FROM LOCKED AUTO     Monday   INGLESIDE   \n",
       "878046               GRAND THEFT FROM LOCKED AUTO     Monday    SOUTHERN   \n",
       "878047  MALICIOUS MISCHIEF, VANDALISM OF VEHICLES     Monday    SOUTHERN   \n",
       "878048                   CHECKS, FORGERY (FELONY)     Monday     BAYVIEW   \n",
       "\n",
       "            Resolution                        Address           X          Y  \n",
       "0       ARREST, BOOKED             OAK ST / LAGUNA ST -122.425892  37.774599  \n",
       "1       ARREST, BOOKED             OAK ST / LAGUNA ST -122.425892  37.774599  \n",
       "2       ARREST, BOOKED      VANNESS AV / GREENWICH ST -122.424363  37.800414  \n",
       "3                 NONE       1500 Block of LOMBARD ST -122.426995  37.800873  \n",
       "4                 NONE      100 Block of BRODERICK ST -122.438738  37.771541  \n",
       "5                 NONE            0 Block of TEDDY AV -122.403252  37.713431  \n",
       "6                 NONE            AVALON AV / PERU AV -122.423327  37.725138  \n",
       "7                 NONE       KIRKWOOD AV / DONAHUE ST -122.371274  37.727564  \n",
       "8                 NONE           600 Block of 47TH AV -122.508194  37.776601  \n",
       "9                 NONE  JEFFERSON ST / LEAVENWORTH ST -122.419088  37.807802  \n",
       "10                NONE  JEFFERSON ST / LEAVENWORTH ST -122.419088  37.807802  \n",
       "11                NONE          0 Block of ESCOLTA WY -122.487983  37.737667  \n",
       "12                NONE             TURK ST / JONES ST -122.412414  37.783004  \n",
       "13                NONE         FILLMORE ST / GEARY BL -122.432915  37.784353  \n",
       "14                NONE       200 Block of WILLIAMS AV -122.397744  37.729935  \n",
       "15                NONE          0 Block of MENDELL ST -122.383692  37.743189  \n",
       "16                NONE             EDDY ST / JONES ST -122.412597  37.783932  \n",
       "17                NONE         GODEUS ST / MISSION ST -122.421682  37.742822  \n",
       "18      ARREST, BOOKED         MENDELL ST / HUDSON AV -122.386401  37.738983  \n",
       "19                NONE          100 Block of JONES ST -122.412250  37.782556  \n",
       "20                NONE         200 Block of EVELYN WY -122.449389  37.742669  \n",
       "21                NONE      1600 Block of VALENCIA ST -122.420272  37.747332  \n",
       "22                NONE          100 Block of JONES ST -122.412250  37.782556  \n",
       "23                NONE          100 Block of JONES ST -122.412250  37.782556  \n",
       "24                NONE       FILLMORE ST / LOMBARD ST -122.436049  37.799841  \n",
       "25                NONE       300 Block of OFARRELL ST -122.410509  37.786043  \n",
       "26                NONE          2000 Block of BUSH ST -122.431018  37.787388  \n",
       "27                NONE        500 Block of COLLEGE AV -122.423656  37.732556  \n",
       "28                NONE          19TH AV / SANTIAGO ST -122.475773  37.744919  \n",
       "29                NONE          2000 Block of 41ST AV -122.499787  37.748518  \n",
       "...                ...                            ...         ...        ...  \n",
       "878019   ARREST, CITED             6TH ST / MARKET ST -122.410294  37.782231  \n",
       "878020   ARREST, CITED          VAN NESS AV / TURK ST -122.420642  37.781961  \n",
       "878021  NOT PROSECUTED           SANCHEZ ST / 14TH ST -122.431191  37.767595  \n",
       "878022            NONE           17TH ST / MISSION ST -122.419516  37.763429  \n",
       "878023            NONE          600 Block of ELLIS ST -122.416894  37.784286  \n",
       "878024   ARREST, CITED     600 Block of DIVISADERO ST -122.437781  37.775483  \n",
       "878025  ARREST, BOOKED         NEWHALL ST / GALVEZ AV -122.387710  37.740674  \n",
       "878026  ARREST, BOOKED         NEWHALL ST / GALVEZ AV -122.387710  37.740674  \n",
       "878027  ARREST, BOOKED         900 Block of MARKET ST -122.409708  37.782828  \n",
       "878028            NONE             6TH ST / MARKET ST -122.410294  37.782231  \n",
       "878029  ARREST, BOOKED   1400 Block of GOLDEN GATE AV -122.434423  37.779193  \n",
       "878030  ARREST, BOOKED   1400 Block of GOLDEN GATE AV -122.434423  37.779193  \n",
       "878031            NONE            3RD ST / NEWCOMB AV -122.390417  37.735593  \n",
       "878032   ARREST, CITED         GEARY BL / FRANKLIN ST -122.423031  37.785482  \n",
       "878033   ARREST, CITED          1000 Block of 22ND AV -122.391668  37.757793  \n",
       "878034   ARREST, CITED          1000 Block of 22ND AV -122.391668  37.757793  \n",
       "878035            NONE       1300 Block of WEBSTER ST -122.431046  37.783030  \n",
       "878036            NONE       1300 Block of WEBSTER ST -122.431046  37.783030  \n",
       "878037            NONE       1300 Block of WEBSTER ST -122.431046  37.783030  \n",
       "878038  ARREST, BOOKED           TAYLOR ST / GEARY ST -122.411519  37.786941  \n",
       "878039   ARREST, CITED        POLK ST / CALIFORNIA ST -122.420692  37.790577  \n",
       "878040            NONE        2800 Block of FOLSOM ST -122.414073  37.751685  \n",
       "878041   ARREST, CITED           CLEMENT ST / 14TH AV -122.472985  37.782552  \n",
       "878042  ARREST, BOOKED       1500 Block of SHAFTER AV -122.389769  37.730564  \n",
       "878043  ARREST, BOOKED       1500 Block of SHAFTER AV -122.389769  37.730564  \n",
       "878044            NONE     FARALLONES ST / CAPITOL AV -122.459033  37.714056  \n",
       "878045            NONE           600 Block of EDNA ST -122.447364  37.731948  \n",
       "878046            NONE             5TH ST / FOLSOM ST -122.403390  37.780266  \n",
       "878047            NONE           TOWNSEND ST / 2ND ST -122.390531  37.780607  \n",
       "878048            NONE       1800 Block of NEWCOMB AV -122.394926  37.738212  \n",
       "\n",
       "[878049 rows x 9 columns]"
      ]
     },
     "execution_count": 25,
     "metadata": {},
     "output_type": "execute_result"
    }
   ],
   "source": [
    "traindat= pd.read_csv('train.csv')\n",
    "traindat_selected= traindat[['X', 'Y']] #X and Y coordinates of the crime. Does "
   ]
  },
  {
   "cell_type": "markdown",
   "metadata": {},
   "source": [
    "**Visualize the Data**"
   ]
  },
  {
   "cell_type": "code",
   "execution_count": 35,
   "metadata": {},
   "outputs": [
    {
     "data": {
      "text/plain": [
       "Text(0.5,1,'X and Y coordinates of crime')"
      ]
     },
     "execution_count": 35,
     "metadata": {},
     "output_type": "execute_result"
    },
    {
     "data": {
      "image/png": "[encoded data removed]",
      "text/plain": [
       "<matplotlib.figure.Figure at 0x1f8e05c5278>"
      ]
     },
     "metadata": {},
     "output_type": "display_data"
    }
   ],
   "source": [
    "f1 = traindat_selected['X'].values\n",
    "f2 = traindat_selected['Y'].values\n",
    "X = np.array(list(zip(f1, f2)))\n",
    "plt.scatter(f1, f2, c='black')\n",
    "plt.title('X and Y coordinates of crime')\n",
    "\n",
    "#this isn't very pretty, if you have time, try changing up to prettyify"
   ]
  },
  {
   "cell_type": "markdown",
   "metadata": {},
   "source": [
    "** Fit k-means **"
   ]
  },
  {
   "cell_type": "code",
   "execution_count": 27,
   "metadata": {
    "collapsed": true
   },
   "outputs": [],
   "source": [
    "kmeans_fitted = KMeans(n_clusters=2, random_state=234).fit(traindat_selected) #let's just try 2 for now \n",
    "\n",
    "#how do you select the number of clusters?\n",
    "#what is \"random state\"?"
   ]
  },
  {
   "cell_type": "markdown",
   "metadata": {},
   "source": [
    "** Below, implement code for Elbow Analysis (following example above) to determine how many clusters are ideal **"
   ]
  },
  {
   "cell_type": "code",
   "execution_count": null,
   "metadata": {
    "collapsed": true
   },
   "outputs": [],
   "source": []
  },
  {
   "cell_type": "code",
   "execution_count": null,
   "metadata": {
    "collapsed": true
   },
   "outputs": [],
   "source": []
  },
  {
   "cell_type": "code",
   "execution_count": null,
   "metadata": {
    "collapsed": true
   },
   "outputs": [],
   "source": []
  },
  {
   "cell_type": "markdown",
   "metadata": {
    "collapsed": true
   },
   "source": [
    "**Below, write out how many clusters you found, and try interpreting each cluster**"
   ]
  },
  {
   "cell_type": "code",
   "execution_count": null,
   "metadata": {
    "collapsed": true
   },
   "outputs": [],
   "source": []
  },
  {
   "cell_type": "code",
   "execution_count": null,
   "metadata": {
    "collapsed": true
   },
   "outputs": [],
   "source": []
  },
  {
   "cell_type": "code",
   "execution_count": null,
   "metadata": {
    "collapsed": true
   },
   "outputs": [],
   "source": []
  },
  {
   "cell_type": "markdown",
   "metadata": {},
   "source": [
    "## **Activity #4: Writing K-Means from Scratch**\n",
    "\n",
    "Follow this tutorial to implement K-means from scratch:\n",
    "https://pythonprogramming.net/k-means-from-scratch-machine-learning-tutorial/"
   ]
  },
  {
   "cell_type": "markdown",
   "metadata": {},
   "source": [
    "In your research, why would you implement an algorithm from scratch even if you could just use Sklearn?\n",
    "* To customize the algorithm for some special feature\n",
    "* To better understand the algorithm, or some surprising finding/bug\n",
    "* To try to write the algorithm in a way that is more computationally efficient, if you had a lot of data"
   ]
  },
  {
   "cell_type": "code",
   "execution_count": null,
   "metadata": {
    "collapsed": true
   },
   "outputs": [],
   "source": []
  },
  {
   "cell_type": "code",
   "execution_count": null,
   "metadata": {
    "collapsed": true
   },
   "outputs": [],
   "source": []
  },
  {
   "cell_type": "code",
   "execution_count": null,
   "metadata": {
    "collapsed": true
   },
   "outputs": [],
   "source": []
  }
 ],
 "metadata": {
  "kernelspec": {
   "display_name": "Python 3",
   "language": "python",
   "name": "python3"
  },
  "language_info": {
   "codemirror_mode": {
    "name": "ipython",
    "version": 3
   },
   "file_extension": ".py",
   "mimetype": "text/x-python",
   "name": "python",
   "nbconvert_exporter": "python",
   "pygments_lexer": "ipython3",
   "version": "3.8.3"
  }
 },
 "nbformat": 4,
 "nbformat_minor": 2
}
